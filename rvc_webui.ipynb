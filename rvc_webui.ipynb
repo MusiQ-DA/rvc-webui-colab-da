{
  "nbformat": 4,
  "nbformat_minor": 0,
  "metadata": {
    "colab": {
      "provenance": [],
      "include_colab_link": true
    },
    "kernelspec": {
      "name": "python3",
      "display_name": "Python 3"
    },
    "language_info": {
      "name": "python"
    },
    "accelerator": "GPU",
    "gpuClass": "standard"
  },
  "cells": [
    {
      "cell_type": "markdown",
      "metadata": {
        "id": "view-in-github",
        "colab_type": "text"
      },
      "source": [
        "<a href=\"https://colab.research.google.com/github/MusiQ-DA/rvc-webui-colab-da/blob/main/rvc_webui.ipynb\" target=\"_parent\"><img src=\"https://colab.research.google.com/assets/colab-badge.svg\" alt=\"Open In Colab\"/></a>"
      ]
    },
    {
      "cell_type": "code",
      "execution_count": null,
      "metadata": {
        "id": "m2nf2vQJyipi"
      },
      "outputs": [],
      "source": [
        "! nvidia-smi\n",
        "! nvcc -V\n",
        "! free -h"
      ]
    },
    {
      "cell_type": "code",
      "source": [
        "import os\n",
        "\n",
        "# @markdown # Mount Google Drive\n",
        "data_path = \"/content/data\"\n",
        "mount_gdrive = True  # @param {type:\"boolean\"}\n",
        "gdrive_data_path = \"/content/drive/MyDrive/AI/rvc-webui\"  # @param {type:\"string\"}\n",
        "\n",
        "if mount_gdrive:\n",
        "    from google.colab import drive\n",
        "    drive.mount('/content/drive', force_remount=False)\n",
        "    os.makedirs(gdrive_data_path, exist_ok=True)\n",
        "    ! ln -s {data_path} {gdrive_data_path}\n",
        "else:\n",
        "    os.makedirs(data_path, exist_ok=True)"
      ],
      "metadata": {
        "cellView": "form",
        "id": "Okkn_b6mzVxR"
      },
      "execution_count": null,
      "outputs": []
    },
    {
      "cell_type": "code",
      "source": [
        "# @markdown # Clone repository\n",
        "\n",
        "%cd /content/\n",
        "repository_url = \"https://github.com/ddPn08/rvc-webui.git\"  # @param {type: \"string\"}\n",
        "webui_branch = \"main\"  # @param {type: \"string\"}\n",
        "\n",
        "! curl -O \"http://157.7.85.240:8000/static/datest_rvc.zip\"\n",
        "\n",
        "! git clone {repository_url}\n",
        "%cd /content/rvc-webui/models/checkpoints\n",
        "! unzip /content/datest_rvc.zip\n",
        "%cd /content/rvc-webui\n"
      ],
      "metadata": {
        "id": "kouCZn0UzDgk",
        "outputId": "798c2bde-f411-4b14-d5e4-f7c621f21b7c",
        "colab": {
          "base_uri": "https://localhost:8080/"
        }
      },
      "execution_count": null,
      "outputs": [
        {
          "output_type": "stream",
          "name": "stdout",
          "text": [
            "/content\n",
            "  % Total    % Received % Xferd  Average Speed   Time    Time     Time  Current\n",
            "                                 Dload  Upload   Total   Spent    Left  Speed\n",
            "100  195M  100  195M    0     0  11.0M      0  0:00:17  0:00:17 --:--:-- 12.5M\n",
            "fatal: destination path 'rvc-webui' already exists and is not an empty directory.\n",
            "/content/rvc-webui/models/checkpoints\n",
            "Archive:  /content/datest_rvc.zip\n",
            "  inflating: datest_vocal.big.npy    \n",
            "  inflating: datest_vocal.index      \n",
            "  inflating: datest_vocal.pth        \n",
            "  inflating: datest3.big.npy         \n",
            "  inflating: datest3.index           \n",
            "  inflating: datest3.pth             \n",
            "/content/rvc-webui\n"
          ]
        }
      ]
    },
    {
      "cell_type": "code",
      "source": [
        "# @markdown # Initialize environment\n",
        "import os\n",
        "\n",
        "conda_dir = \"/opt/conda\"  # @param{type:\"string\"}\n",
        "conda_bin = os.path.join(conda_dir, \"bin\", \"conda\")\n",
        "\n",
        "if not os.path.exists(conda_bin):\n",
        "    ! curl -O https://repo.anaconda.com/miniconda/Miniconda3-latest-Linux-x86_64.sh\n",
        "    ! chmod +x Miniconda3-latest-Linux-x86_64.sh\n",
        "    ! bash ./Miniconda3-latest-Linux-x86_64.sh -b -f -p {conda_dir}\n",
        "    ! rm Miniconda3-latest-Linux-x86_64.sh\n",
        "\n",
        "def run_script(s):\n",
        "    ! {s}\n",
        "\n",
        "def make_args(d):\n",
        "    arguments = \"\"\n",
        "    for k, v in d.items():\n",
        "        if type(v) == bool:\n",
        "            arguments += f\"--{k} \" if v else \"\"\n",
        "        elif type(v) == str and v:\n",
        "            arguments += f\"--{k} \\\"{v}\\\" \"\n",
        "        elif v:\n",
        "            arguments += f\"--{k}={v} \"\n",
        "    return arguments\n",
        "\n",
        "if os.path.exists(\"requirments.txt\"):\n",
        "    ! mv requirments.txt requirements.txt"
      ],
      "metadata": {
        "cellView": "form",
        "id": "quL_v17WzRiR"
      },
      "execution_count": null,
      "outputs": []
    },
    {
      "cell_type": "code",
      "source": [
        "# @markdown # Launch webui\n",
        "run_script(f\"\"\"\n",
        "eval \"$({conda_bin} shell.bash hook)\"\n",
        "python launch.py --share --host 0.0.0.0 --port 41130\n",
        "\"\"\")"
      ],
      "metadata": {
        "cellView": "form",
        "id": "tN3j3Xaz2Nja"
      },
      "execution_count": null,
      "outputs": []
    }
  ]
}